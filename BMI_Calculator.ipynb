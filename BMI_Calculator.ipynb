{
  "nbformat": 4,
  "nbformat_minor": 0,
  "metadata": {
    "colab": {
      "provenance": []
    },
    "kernelspec": {
      "name": "python3",
      "display_name": "Python 3"
    },
    "language_info": {
      "name": "python"
    }
  },
  "cells": [
    {
      "cell_type": "markdown",
      "source": [
        "BMI_Calculator"
      ],
      "metadata": {
        "id": "FeNhuxI96D-N"
      }
    },
    {
      "cell_type": "markdown",
      "source": [
        "Body Mass Index (BMI) is a measure of body fat on the basis of height and weight, respectively.\n",
        "Based on the BMI of the individual, the overall health of the person can be predicted as:\n",
        "Serial\n",
        "No.\n",
        "BMI Weight\n",
        "Status\n",
        "1 Below 18.5 Underweight\n",
        "2 18.5 - 24.9 Normal\n",
        "3 25.0 - 29.9 Overweight\n",
        "4 30.0 and\n",
        "above\n",
        "Obese\n",
        "For Example, if the height and weight of a person are 155 cm and 57 kg. The BMI of that person\n",
        "will be 23.73 (approx.), which signifies that the person is healthy.\n",
        "Create a BMI Calculator using Python that will take the height and weight of the individual and\n",
        "calculate the BMI of that person. On the basis of the BMI of an individual, the calculator returns\n",
        "a statement stating the overall health of the person. The steps are as follows:\n"
      ],
      "metadata": {
        "id": "H2j1ZO59LwaE"
      }
    },
    {
      "cell_type": "markdown",
      "source": [
        "1. Create an input data set as a dataframe named df_bmi with the following columns and\n",
        "populate at least 20 values in it.\n"
      ],
      "metadata": {
        "id": "8orfIOBaLyv8"
      }
    },
    {
      "cell_type": "code",
      "source": [
        "import numpy as np\n",
        "import pandas as pd\n",
        "import matplotlib.pyplot as plt\n",
        "dataset={\"Index\":[1,2,3,4,5,6,7,8,9,10,11,12,13,14,15,16,17,18,19,20,21,22,23,24],\n",
        "         \"Name\":[\"Sarmila Sabnam\",\"Ishika Mistri\",\"Aditya Sarkar\",\"Aditya Sadhukhan\",\"Bakul Sarkar\",\"Soumili Bose\",\"Sayantan Das\",\"Dipsayak Saha\",\"Sankhadip Paul\",\"Ashok Kumar\",\"Ajay Kumar\",\n",
        "\"Saket Ranjan \",\"Prianshu Prasad\",\"Monisha Hembrom\",\"Aritra Mazumdar\",\"Anik Basu Bhaumik\",\"Ankita Bhowmik\",\"Anindya Biswas\",\"Priyanka Mazumdar \",\"Rikathi Pal\",\"Gitanjali Basu\",\"Pratim Guha\",\"Aritra Mandal\",\"Puspendu Banerjee\"],\n",
        "\"Height\":[150,155,150,157,160,150,155,150,150,150,152,157,155,np.nan,150,159,157,150,np.nan,157,np.nan,155,157,157],\n",
        "\"Weight\":[60,60,72,75,90,75,72,72,70,67,69,72,75,70,50,81,57,65,68,65,70,72,70,75],\n",
        "\"Age\":[23,np.nan,23,24,24,23,np.nan,24,21,21,22,22,21,21,22,21,21,21,21,21,21,22,21,21]}\n",
        "df_bmi=pd.DataFrame(dataset)\n",
        "print(df_bmi)\n",
        "\n",
        "\n",
        "\n",
        "\n",
        "\n",
        "\n",
        "\n",
        "\n",
        "\n",
        "\n",
        "\n",
        "\n",
        "\n",
        "\n",
        "\n",
        "\n",
        "\n",
        "\n",
        "\n",
        "\n",
        "\n",
        "\n",
        "\n",
        "\n"
      ],
      "metadata": {
        "id": "5IFg_pv1L_vj",
        "colab": {
          "base_uri": "https://localhost:8080/"
        },
        "outputId": "37275a94-c67c-476c-d649-0227a5759fb3"
      },
      "execution_count": null,
      "outputs": [
        {
          "output_type": "stream",
          "name": "stdout",
          "text": [
            "    Index                Name  Height  Weight   Age\n",
            "0       1      Sarmila Sabnam   150.0      60  23.0\n",
            "1       2       Ishika Mistri   155.0      60   NaN\n",
            "2       3       Aditya Sarkar   150.0      72  23.0\n",
            "3       4    Aditya Sadhukhan   157.0      75  24.0\n",
            "4       5        Bakul Sarkar   160.0      90  24.0\n",
            "5       6        Soumili Bose   150.0      75  23.0\n",
            "6       7        Sayantan Das   155.0      72   NaN\n",
            "7       8       Dipsayak Saha   150.0      72  24.0\n",
            "8       9      Sankhadip Paul   150.0      70  21.0\n",
            "9      10         Ashok Kumar   150.0      67  21.0\n",
            "10     11          Ajay Kumar   152.0      69  22.0\n",
            "11     12       Saket Ranjan    157.0      72  22.0\n",
            "12     13     Prianshu Prasad   155.0      75  21.0\n",
            "13     14     Monisha Hembrom     NaN      70  21.0\n",
            "14     15     Aritra Mazumdar   150.0      50  22.0\n",
            "15     16   Anik Basu Bhaumik   159.0      81  21.0\n",
            "16     17      Ankita Bhowmik   157.0      57  21.0\n",
            "17     18      Anindya Biswas   150.0      65  21.0\n",
            "18     19  Priyanka Mazumdar      NaN      68  21.0\n",
            "19     20         Rikathi Pal   157.0      65  21.0\n",
            "20     21      Gitanjali Basu     NaN      70  21.0\n",
            "21     22         Pratim Guha   155.0      72  22.0\n",
            "22     23       Aritra Mandal   157.0      70  21.0\n",
            "23     24   Puspendu Banerjee   157.0      75  21.0\n"
          ]
        }
      ]
    },
    {
      "cell_type": "markdown",
      "source": [
        "2)Check for missing values in the data frame and delete rows with missing values."
      ],
      "metadata": {
        "id": "_XcjUvUUecQG"
      }
    },
    {
      "cell_type": "code",
      "source": [
        "df_bmi1=df_bmi.dropna()\n",
        "print(df_bmi1)"
      ],
      "metadata": {
        "colab": {
          "base_uri": "https://localhost:8080/"
        },
        "id": "-dydhM-gejZH",
        "outputId": "42b780e9-af9d-4310-8e33-f72308f383cd"
      },
      "execution_count": null,
      "outputs": [
        {
          "output_type": "stream",
          "name": "stdout",
          "text": [
            "    Index               Name  Height  Weight   Age\n",
            "0       1     Sarmila Sabnam   150.0      60  23.0\n",
            "2       3      Aditya Sarkar   150.0      72  23.0\n",
            "3       4   Aditya Sadhukhan   157.0      75  24.0\n",
            "4       5       Bakul Sarkar   160.0      90  24.0\n",
            "5       6       Soumili Bose   150.0      75  23.0\n",
            "7       8      Dipsayak Saha   150.0      72  24.0\n",
            "8       9     Sankhadip Paul   150.0      70  21.0\n",
            "9      10        Ashok Kumar   150.0      67  21.0\n",
            "10     11         Ajay Kumar   152.0      69  22.0\n",
            "11     12      Saket Ranjan    157.0      72  22.0\n",
            "12     13    Prianshu Prasad   155.0      75  21.0\n",
            "14     15    Aritra Mazumdar   150.0      50  22.0\n",
            "15     16  Anik Basu Bhaumik   159.0      81  21.0\n",
            "16     17     Ankita Bhowmik   157.0      57  21.0\n",
            "17     18     Anindya Biswas   150.0      65  21.0\n",
            "19     20        Rikathi Pal   157.0      65  21.0\n",
            "21     22        Pratim Guha   155.0      72  22.0\n",
            "22     23      Aritra Mandal   157.0      70  21.0\n",
            "23     24  Puspendu Banerjee   157.0      75  21.0\n"
          ]
        }
      ]
    },
    {
      "cell_type": "markdown",
      "source": [
        "3. Print the list of unique ages present in df_bmi."
      ],
      "metadata": {
        "id": "341FNu5Ae9b6"
      }
    },
    {
      "cell_type": "code",
      "source": [
        "print(df_bmi1.Age.unique())"
      ],
      "metadata": {
        "colab": {
          "base_uri": "https://localhost:8080/"
        },
        "id": "Can0zTgmfCHI",
        "outputId": "afe7e745-3dcd-47e3-a7e8-f8553717560e"
      },
      "execution_count": null,
      "outputs": [
        {
          "output_type": "stream",
          "name": "stdout",
          "text": [
            "[23. 24. 21. 22.]\n"
          ]
        }
      ]
    },
    {
      "cell_type": "markdown",
      "source": [
        "4. Calculate the BMI of a person using the formula:"
      ],
      "metadata": {
        "id": "hfGr6LF3feLB"
      }
    },
    {
      "cell_type": "code",
      "source": [
        "def Bmi(w,h):\n",
        "  h/=100\n",
        "  BMI=w/(h*h)\n",
        "\n",
        "  return BMI"
      ],
      "metadata": {
        "id": "uh-cRgSoflbi"
      },
      "execution_count": null,
      "outputs": []
    },
    {
      "cell_type": "markdown",
      "source": [
        "5. Add a new column to df_bmi which contains the calculated BMI."
      ],
      "metadata": {
        "id": "1oufb83ygV31"
      }
    },
    {
      "cell_type": "code",
      "source": [
        "bmi=[]\n",
        "for i in range(df_bmi1.shape[0]):\n",
        "  bmi.append(Bmi(df_bmi1['Weight'].iloc[i],df_bmi1['Height'].iloc[i]))\n",
        "df_bmi1['BMI']=bmi\n",
        "print(df_bmi1)"
      ],
      "metadata": {
        "colab": {
          "base_uri": "https://localhost:8080/"
        },
        "id": "MTFj1tf4ghjS",
        "outputId": "10886107-cda8-47a8-def9-e08b18ed8164"
      },
      "execution_count": null,
      "outputs": [
        {
          "output_type": "stream",
          "name": "stdout",
          "text": [
            "    Index               Name  Height  Weight   Age        BMI\n",
            "0       1     Sarmila Sabnam   150.0      60  23.0  26.666667\n",
            "2       3      Aditya Sarkar   150.0      72  23.0  32.000000\n",
            "3       4   Aditya Sadhukhan   157.0      75  24.0  30.427198\n",
            "4       5       Bakul Sarkar   160.0      90  24.0  35.156250\n",
            "5       6       Soumili Bose   150.0      75  23.0  33.333333\n",
            "7       8      Dipsayak Saha   150.0      72  24.0  32.000000\n",
            "8       9     Sankhadip Paul   150.0      70  21.0  31.111111\n",
            "9      10        Ashok Kumar   150.0      67  21.0  29.777778\n",
            "10     11         Ajay Kumar   152.0      69  22.0  29.864958\n",
            "11     12      Saket Ranjan    157.0      72  22.0  29.210110\n",
            "12     13    Prianshu Prasad   155.0      75  21.0  31.217482\n",
            "14     15    Aritra Mazumdar   150.0      50  22.0  22.222222\n",
            "15     16  Anik Basu Bhaumik   159.0      81  21.0  32.039872\n",
            "16     17     Ankita Bhowmik   157.0      57  21.0  23.124670\n",
            "17     18     Anindya Biswas   150.0      65  21.0  28.888889\n",
            "19     20        Rikathi Pal   157.0      65  21.0  26.370238\n",
            "21     22        Pratim Guha   155.0      72  22.0  29.968783\n",
            "22     23      Aritra Mandal   157.0      70  21.0  28.398718\n",
            "23     24  Puspendu Banerjee   157.0      75  21.0  30.427198\n"
          ]
        },
        {
          "output_type": "stream",
          "name": "stderr",
          "text": [
            "/usr/local/lib/python3.7/dist-packages/ipykernel_launcher.py:4: SettingWithCopyWarning: \n",
            "A value is trying to be set on a copy of a slice from a DataFrame.\n",
            "Try using .loc[row_indexer,col_indexer] = value instead\n",
            "\n",
            "See the caveats in the documentation: https://pandas.pydata.org/pandas-docs/stable/user_guide/indexing.html#returning-a-view-versus-a-copy\n",
            "  after removing the cwd from sys.path.\n"
          ]
        }
      ]
    },
    {
      "cell_type": "markdown",
      "source": [
        "6. Sort df_bmi based upon the BMI value in descending order and print the top 10 rows."
      ],
      "metadata": {
        "id": "vQ0g92rwjORB"
      }
    },
    {
      "cell_type": "code",
      "source": [
        "df_bmi2=df_bmi1.sort_values(\"BMI\",ascending = False).head(10)\n",
        "print(df_bmi2)"
      ],
      "metadata": {
        "colab": {
          "base_uri": "https://localhost:8080/"
        },
        "id": "MMCoVZ6sj2Kh",
        "outputId": "dacbc965-a44a-4232-b7a5-7182d755b1a7"
      },
      "execution_count": null,
      "outputs": [
        {
          "output_type": "stream",
          "name": "stdout",
          "text": [
            "    Index               Name  Height  Weight   Age        BMI\n",
            "4       5       Bakul Sarkar   160.0      90  24.0  35.156250\n",
            "5       6       Soumili Bose   150.0      75  23.0  33.333333\n",
            "15     16  Anik Basu Bhaumik   159.0      81  21.0  32.039872\n",
            "7       8      Dipsayak Saha   150.0      72  24.0  32.000000\n",
            "2       3      Aditya Sarkar   150.0      72  23.0  32.000000\n",
            "12     13    Prianshu Prasad   155.0      75  21.0  31.217482\n",
            "8       9     Sankhadip Paul   150.0      70  21.0  31.111111\n",
            "23     24  Puspendu Banerjee   157.0      75  21.0  30.427198\n",
            "3       4   Aditya Sadhukhan   157.0      75  24.0  30.427198\n",
            "21     22        Pratim Guha   155.0      72  22.0  29.968783\n"
          ]
        }
      ]
    },
    {
      "cell_type": "markdown",
      "source": [
        "7. Sort df_bmi based upon the BMI value in ascending order and print the top 10 rows."
      ],
      "metadata": {
        "id": "HKzUcja7meyE"
      }
    },
    {
      "cell_type": "code",
      "source": [
        "df_bmi3=df_bmi1.sort_values(\"BMI\",ascending = True).head(10)\n",
        "print(df_bmi3)"
      ],
      "metadata": {
        "colab": {
          "base_uri": "https://localhost:8080/"
        },
        "id": "8_xZuDyUmnHm",
        "outputId": "475800a7-ea26-4770-e4d7-236b35f7e3c5"
      },
      "execution_count": null,
      "outputs": [
        {
          "output_type": "stream",
          "name": "stdout",
          "text": [
            "    Index             Name  Height  Weight   Age        BMI\n",
            "14     15  Aritra Mazumdar   150.0      50  22.0  22.222222\n",
            "16     17   Ankita Bhowmik   157.0      57  21.0  23.124670\n",
            "19     20      Rikathi Pal   157.0      65  21.0  26.370238\n",
            "0       1   Sarmila Sabnam   150.0      60  23.0  26.666667\n",
            "22     23    Aritra Mandal   157.0      70  21.0  28.398718\n",
            "17     18   Anindya Biswas   150.0      65  21.0  28.888889\n",
            "11     12    Saket Ranjan    157.0      72  22.0  29.210110\n",
            "9      10      Ashok Kumar   150.0      67  21.0  29.777778\n",
            "10     11       Ajay Kumar   152.0      69  22.0  29.864958\n",
            "21     22      Pratim Guha   155.0      72  22.0  29.968783\n"
          ]
        }
      ]
    },
    {
      "cell_type": "markdown",
      "source": [
        "8. Display only the Name, BMI and Age from the dataframe df_bmi."
      ],
      "metadata": {
        "id": "9LEYS3ainEe5"
      }
    },
    {
      "cell_type": "code",
      "source": [
        "print(df_bmi1.iloc[:,[1,5,4]])"
      ],
      "metadata": {
        "colab": {
          "base_uri": "https://localhost:8080/"
        },
        "id": "03pkHHwTnP51",
        "outputId": "aa7da5f9-a320-490b-ec43-09a746d873ee"
      },
      "execution_count": null,
      "outputs": [
        {
          "output_type": "stream",
          "name": "stdout",
          "text": [
            "                 Name        BMI   Age\n",
            "0      Sarmila Sabnam  26.666667  23.0\n",
            "2       Aditya Sarkar  32.000000  23.0\n",
            "3    Aditya Sadhukhan  30.427198  24.0\n",
            "4        Bakul Sarkar  35.156250  24.0\n",
            "5        Soumili Bose  33.333333  23.0\n",
            "7       Dipsayak Saha  32.000000  24.0\n",
            "8      Sankhadip Paul  31.111111  21.0\n",
            "9         Ashok Kumar  29.777778  21.0\n",
            "10         Ajay Kumar  29.864958  22.0\n",
            "11      Saket Ranjan   29.210110  22.0\n",
            "12    Prianshu Prasad  31.217482  21.0\n",
            "14    Aritra Mazumdar  22.222222  22.0\n",
            "15  Anik Basu Bhaumik  32.039872  21.0\n",
            "16     Ankita Bhowmik  23.124670  21.0\n",
            "17     Anindya Biswas  28.888889  21.0\n",
            "19        Rikathi Pal  26.370238  21.0\n",
            "21        Pratim Guha  29.968783  22.0\n",
            "22      Aritra Mandal  28.398718  21.0\n",
            "23  Puspendu Banerjee  30.427198  21.0\n"
          ]
        }
      ]
    },
    {
      "cell_type": "markdown",
      "source": [
        "9. Print the average BMI of persons aged between 20-25"
      ],
      "metadata": {
        "id": "sI8_HRCooeKJ"
      }
    },
    {
      "cell_type": "code",
      "source": [
        "df_bmi4=df_bmi1[(df_bmi1[\"Age\"] > 20) & (df_bmi1[\"Age\"] < 25)]\n",
        "print(\"the average BMI of persons aged between 20-25\")\n",
        "df_bmi4[\"BMI\"].mean()"
      ],
      "metadata": {
        "colab": {
          "base_uri": "https://localhost:8080/"
        },
        "id": "WtvpBIvapchK",
        "outputId": "1c3b3935-6c28-41c6-e502-1ef6f9fc477a"
      },
      "execution_count": null,
      "outputs": [
        {
          "output_type": "stream",
          "name": "stdout",
          "text": [
            "the average BMI of persons aged between 20-25\n"
          ]
        },
        {
          "output_type": "execute_result",
          "data": {
            "text/plain": [
              "29.589761935422427"
            ]
          },
          "metadata": {},
          "execution_count": 75
        }
      ]
    },
    {
      "cell_type": "markdown",
      "source": [
        "10. How many people are:\n",
        "i. Overweight\n",
        "ii. Underweight\n",
        "iii. Obese\n",
        "Serial\n",
        "No.\n",
        "BMI Weight\n",
        "Status\n",
        "1 Below 18.5 Underweight\n",
        "2 18.5 - 24.9 Normal\n",
        "3 25.0 - 29.9 Overweight\n",
        "4 30.0 and\n",
        "above\n",
        "Obese"
      ],
      "metadata": {
        "id": "fA67YwMS1Btr"
      }
    },
    {
      "cell_type": "code",
      "source": [
        "underweight=df_bmi1[(df_bmi1[\"BMI\"]<18.5)].shape[0]\n",
        "normal=df_bmi1[(df_bmi1[\"BMI\"]>18.5) & (df_bmi1[\"BMI\"]<24.9)].shape[0]\n",
        "overweight=df_bmi1[(df_bmi1[\"BMI\"]>25) & (df_bmi1[\"BMI\"]<29)].shape[0]\n",
        "obese=df_bmi1[(df_bmi1[\"BMI\"]>30)].shape[0]\n",
        "print(\"underweight:\",underweight)\n",
        "print(\"normal:\",normal)\n",
        "print(\"overweight:\",overweight)\n",
        "print(\"obese:\",obese)"
      ],
      "metadata": {
        "colab": {
          "base_uri": "https://localhost:8080/"
        },
        "id": "MzxG_0aV1D3k",
        "outputId": "4903dfe1-08d7-474c-895d-1178ac0d893a"
      },
      "execution_count": null,
      "outputs": [
        {
          "output_type": "stream",
          "name": "stdout",
          "text": [
            "underweight: 0\n",
            "normal: 2\n",
            "overweight: 4\n",
            "obese: 9\n"
          ]
        }
      ]
    },
    {
      "cell_type": "markdown",
      "source": [
        "11. Print the list of unique ages present in df_bmi."
      ],
      "metadata": {
        "id": "7P6O0rxB5JBK"
      }
    },
    {
      "cell_type": "code",
      "source": [
        "print(df_bmi1.Age.unique())"
      ],
      "metadata": {
        "colab": {
          "base_uri": "https://localhost:8080/"
        },
        "id": "gr7fOppU5KH6",
        "outputId": "090a459e-51dd-4216-c388-380f22c07186"
      },
      "execution_count": null,
      "outputs": [
        {
          "output_type": "stream",
          "name": "stdout",
          "text": [
            "[23. 24. 21. 22.]\n"
          ]
        }
      ]
    },
    {
      "cell_type": "markdown",
      "source": [
        "12. Plot the BMI distribution using a box plot."
      ],
      "metadata": {
        "id": "mlh1TA7I5VYf"
      }
    },
    {
      "cell_type": "code",
      "source": [
        "plt.title(\"BMI distribution\")\n",
        "plt.ylabel(\"BMI\")\n",
        "plt.boxplot(df_bmi1.BMI)\n",
        "plt.show()"
      ],
      "metadata": {
        "colab": {
          "base_uri": "https://localhost:8080/",
          "height": 281
        },
        "id": "HQwZtU9g5dJF",
        "outputId": "c5ed813d-52f2-45f8-a7c6-87da1fc49097"
      },
      "execution_count": null,
      "outputs": [
        {
          "output_type": "display_data",
          "data": {
            "text/plain": [
              "<Figure size 432x288 with 1 Axes>"
            ],
            "image/png": "[encoded data removed]"
          },
          "metadata": {
            "needs_background": "light"
          }
        }
      ]
    }
  ]
}